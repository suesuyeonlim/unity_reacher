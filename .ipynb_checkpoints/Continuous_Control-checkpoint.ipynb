{
 "cells": [
  {
   "cell_type": "markdown",
   "metadata": {},
   "source": [
    "# Continuous Control\n",
    "\n",
    "---\n",
    "\n",
    "### 1. Start the Environment"
   ]
  },
  {
   "cell_type": "code",
   "execution_count": 1,
   "metadata": {},
   "outputs": [
    {
     "name": "stderr",
     "output_type": "stream",
     "text": [
      "INFO:unityagents:\n",
      "'Academy' started successfully!\n",
      "Unity Academy name: Academy\n",
      "        Number of Brains: 1\n",
      "        Number of External Brains : 1\n",
      "        Lesson number : 0\n",
      "        Reset Parameters :\n",
      "\t\tgoal_size -> 5.0\n",
      "\t\tgoal_speed -> 1.0\n",
      "Unity brain name: ReacherBrain\n",
      "        Number of Visual Observations (per agent): 0\n",
      "        Vector Observation space type: continuous\n",
      "        Vector Observation space size (per agent): 33\n",
      "        Number of stacked Vector Observation: 1\n",
      "        Vector Action space type: continuous\n",
      "        Vector Action space size (per agent): 4\n",
      "        Vector Action descriptions: , , , \n"
     ]
    }
   ],
   "source": [
    "from unityagents import UnityEnvironment\n",
    "import numpy as np\n",
    "\n",
    "env = UnityEnvironment(file_name='./Reacher.app')"
   ]
  },
  {
   "cell_type": "markdown",
   "metadata": {},
   "source": [
    "Environments contain **_brains_** which are responsible for deciding the actions of their associated agents. Here we check for the first brain available, and set it as the default brain we will be controlling from Python."
   ]
  },
  {
   "cell_type": "code",
   "execution_count": 2,
   "metadata": {},
   "outputs": [],
   "source": [
    "# get the default brain\n",
    "brain_name = env.brain_names[0]\n",
    "brain = env.brains[brain_name]"
   ]
  },
  {
   "cell_type": "code",
   "execution_count": 3,
   "metadata": {},
   "outputs": [
    {
     "name": "stdout",
     "output_type": "stream",
     "text": [
      "Number of agents: 1\n",
      "Size of each action: 4\n",
      "There are 1 agents. Each observes a state with length: 33\n",
      "The state for the first agent looks like: [ 0.00000000e+00 -4.00000000e+00  0.00000000e+00  1.00000000e+00\n",
      " -0.00000000e+00 -0.00000000e+00 -4.37113883e-08  0.00000000e+00\n",
      "  0.00000000e+00  0.00000000e+00  0.00000000e+00  0.00000000e+00\n",
      "  0.00000000e+00  0.00000000e+00 -1.00000000e+01  0.00000000e+00\n",
      "  1.00000000e+00 -0.00000000e+00 -0.00000000e+00 -4.37113883e-08\n",
      "  0.00000000e+00  0.00000000e+00  0.00000000e+00  0.00000000e+00\n",
      "  0.00000000e+00  0.00000000e+00  5.75471878e+00 -1.00000000e+00\n",
      "  5.55726671e+00  0.00000000e+00  1.00000000e+00  0.00000000e+00\n",
      " -1.68164849e-01]\n"
     ]
    }
   ],
   "source": [
    "# reset the environment\n",
    "env_info = env.reset(train_mode=True)[brain_name]\n",
    "\n",
    "# number of agents\n",
    "num_agents = len(env_info.agents)\n",
    "print('Number of agents:', num_agents)\n",
    "\n",
    "# size of each action\n",
    "action_size = brain.vector_action_space_size\n",
    "print('Size of each action:', action_size)\n",
    "\n",
    "# examine the state space \n",
    "states = env_info.vector_observations\n",
    "state_size = states.shape[1]\n",
    "print('There are {} agents. Each observes a state with length: {}'.format(states.shape[0], state_size))\n",
    "print('The state for the first agent looks like:', states[0])"
   ]
  },
  {
   "cell_type": "code",
   "execution_count": 4,
   "metadata": {},
   "outputs": [],
   "source": [
    "import torch\n",
    "import torch.nn as nn\n",
    "import torch.nn.functional as F\n",
    "import torch.optim as optim\n",
    "\n",
    "import numpy as np\n",
    "import random\n",
    "import copy\n",
    "from collections import deque, namedtuple\n",
    "\n",
    "device = torch.device(\"cuda:0\" if torch.cuda.is_available() else \"cpu\")"
   ]
  },
  {
   "cell_type": "code",
   "execution_count": 5,
   "metadata": {},
   "outputs": [],
   "source": [
    "# Models\n",
    "def hidden_init(layer):\n",
    "    fan_in = layer.weight.data.size()[0]\n",
    "    lim = 1. / np.sqrt(fan_in)\n",
    "    return (-lim, lim)\n",
    "\n",
    "class Critic(nn.Module):\n",
    "    def __init__(self, seed):\n",
    "        super(Critic, self).__init__()\n",
    "        self.seed = torch.manual_seed(seed)\n",
    "        self.fc1 = nn.Linear(33, 400)\n",
    "        self.fc2 = nn.Linear(404, 300)\n",
    "        self.fc3 = nn.Linear(300, 1)\n",
    "        self.reset_parameters()\n",
    "\n",
    "    def reset_parameters(self):\n",
    "        self.fc1.weight.data.uniform_(*hidden_init(self.fc1))\n",
    "        self.fc2.weight.data.uniform_(*hidden_init(self.fc2))\n",
    "        self.fc3.weight.data.uniform_(-3e-3, 3e-3)\n",
    "        \n",
    "    def forward(self, states, actions):\n",
    "        x = F.relu(self.fc1(states))\n",
    "        x = torch.cat((x, actions), -1)\n",
    "        x = F.relu(self.fc2(x))\n",
    "        x = self.fc3(x)\n",
    "        return x\n",
    "    \n",
    "class Actor(nn.Module):\n",
    "    def __init__(self, seed):\n",
    "        super(Actor, self).__init__()\n",
    "        self.seed = torch.manual_seed(seed)\n",
    "        self.fc1 = nn.Linear(33, 400)\n",
    "        self.fc2 = nn.Linear(400, 300)\n",
    "        self.fc3 = nn.Linear(300, 4)\n",
    "        self.reset_parameters()\n",
    "\n",
    "    def reset_parameters(self):\n",
    "        self.fc1.weight.data.uniform_(*hidden_init(self.fc1))\n",
    "        self.fc2.weight.data.uniform_(*hidden_init(self.fc2))\n",
    "        self.fc3.weight.data.uniform_(-3e-3, 3e-3)\n",
    "        \n",
    "    def forward(self, states):\n",
    "        x = F.relu(self.fc1(states))\n",
    "        x = F.relu(self.fc2(x))\n",
    "        x = F.tanh(self.fc3(x))\n",
    "        return x"
   ]
  },
  {
   "cell_type": "code",
   "execution_count": 6,
   "metadata": {},
   "outputs": [],
   "source": [
    "class OUNoise:\n",
    "    def __init__(self, size, mu=0., theta=0.15, sigma=0.2):\n",
    "        self.mu = mu * np.ones(size)\n",
    "        self.theta = theta\n",
    "        self.sigma = sigma\n",
    "        self.reset()\n",
    "\n",
    "    def reset(self):\n",
    "        self.state = copy.copy(self.mu)\n",
    "\n",
    "    def sample(self):\n",
    "        x = self.state\n",
    "        dx = self.theta * (self.mu - x) + self.sigma * np.random.randn(len(x)) # ADDED\n",
    "        self.state = x + dx\n",
    "        return self.state"
   ]
  },
  {
   "cell_type": "code",
   "execution_count": 7,
   "metadata": {},
   "outputs": [],
   "source": [
    "# Agent\n",
    "class Agent(nn.Module):\n",
    "    def __init__(self, buffer_size, batch_size):\n",
    "        super(Agent, self).__init__()\n",
    "        self.buffer_size = buffer_size\n",
    "        self.batch_size = batch_size\n",
    "        self.experience = namedtuple(\"Experience\", field_names=[\"state\", \"action\", \"reward\", \"done\", \"next_state\"])\n",
    "        self.memory = deque(maxlen=self.buffer_size)\n",
    "        self.dqn = Critic(1).to(device)\n",
    "        self.dqn_target = Critic(1).to(device)\n",
    "        self.policy = Actor(1).to(device)\n",
    "        self.policy_target = Actor(1).to(device)\n",
    "        self.optimizer_dqn = optim.Adam(self.dqn.parameters(), lr = 1e-4, weight_decay = 0)\n",
    "        self.optimizer_policy = optim.Adam(self.policy.parameters(), lr = 1e-3)\n",
    "        self.t_step = 0\n",
    "        self.noise = OUNoise(4)\n",
    "    \n",
    "    def act(self, state, add_noise=True):\n",
    "        state = torch.from_numpy(state).float().to(device)\n",
    "        self.policy.eval()\n",
    "        with torch.no_grad():\n",
    "            action = self.policy(state).cpu().data.numpy()\n",
    "        self.policy.train()\n",
    "        action += self.noise.sample()\n",
    "        return np.clip(action, -1, 1)\n",
    "    \n",
    "    def step(self, state, action, reward, done, next_state):\n",
    "        e = self.experience(state, action, reward, done, next_state)\n",
    "        self.memory.append(e) \n",
    "        \n",
    "        self.t_step = (self.t_step + 1)\n",
    "        if self.t_step % 1 == 0:\n",
    "            if len(self.memory)>=self.batch_size:\n",
    "                experiences = self.sample()\n",
    "                states, actions, rewards, dones, next_states = experiences\n",
    "                \n",
    "                Q = self.dqn_learn(states, actions, rewards, dones, next_states)\n",
    "                self.optimizer_dqn.zero_grad()\n",
    "                Q.backward()\n",
    "                self.optimizer_dqn.step()\n",
    "                for target_param, local_param in zip(self.dqn_target.parameters(), self.dqn.parameters()):\n",
    "                    target_param.data.copy_(0.001*local_param.data + (1.0-0.001)*target_param.data)\n",
    "                \n",
    "                P = self.policy_learn(states)\n",
    "                self.optimizer_policy.zero_grad()\n",
    "                P.backward()\n",
    "                self.optimizer_policy.step()\n",
    "                for target_param, local_param in zip(self.policy_target.parameters(), self.policy.parameters()):\n",
    "                    target_param.data.copy_(0.001*local_param.data + (1.0-0.001)*target_param.data)\n",
    "\n",
    "    def sample(self):\n",
    "        experiences = random.sample(self.memory, k=self.batch_size)\n",
    "        states = torch.from_numpy(np.vstack([e.state for e in experiences if e is not None])).float().to(device)\n",
    "        actions = torch.from_numpy(np.vstack([e.action for e in experiences if e is not None])).long().to(device)\n",
    "        rewards = torch.from_numpy(np.vstack([e.reward for e in experiences if e is not None])).float().to(device)\n",
    "        next_states = torch.from_numpy(np.vstack([e.next_state for e in experiences if e is not None])).float().to(device)\n",
    "        dones = torch.from_numpy(np.vstack([e.done for e in experiences if e is not None]).astype(np.uint8)).float().to(device)\n",
    "        return (states, actions, rewards, dones, next_states)\n",
    "    \n",
    "    def dqn_learn(self, states, actions, rewards, dones, next_states, discount = 0.99):\n",
    "        next_actions = self.policy_target(next_states)\n",
    "        dqn_future_reward = rewards + (discount * self.dqn_target(next_states, next_actions) * (1 - dones))\n",
    "        dqn_expected_reward = self.dqn(states, actions)\n",
    "        return F.mse_loss(dqn_future_reward, dqn_expected_reward)\n",
    "    \n",
    "    def policy_learn(self, states):\n",
    "        actions_pred = self.policy(states)\n",
    "        rewards_pred = self.dqn(states, actions_pred)\n",
    "        return -torch.mean(rewards_pred)\n",
    "    \n",
    "    def reset(self):\n",
    "        self.noise.reset()\n",
    "agent = Agent(int(1e5), 128)"
   ]
  },
  {
   "cell_type": "code",
   "execution_count": 8,
   "metadata": {
    "scrolled": true
   },
   "outputs": [
    {
     "name": "stderr",
     "output_type": "stream",
     "text": [
      "/anaconda3/envs/reacher_ddpg/lib/python3.6/site-packages/torch/nn/functional.py:1795: UserWarning: nn.functional.tanh is deprecated. Use torch.tanh instead.\n",
      "  warnings.warn(\"nn.functional.tanh is deprecated. Use torch.tanh instead.\")\n"
     ]
    },
    {
     "name": "stdout",
     "output_type": "stream",
     "text": [
      "Episode 5\tReward: 0.47\tAverage Reward: 0.43\n",
      "Episode 10\tReward: 0.85\tAverage Reward: 0.75\n",
      "Episode 15\tReward: 0.21\tAverage Reward: 0.87\n",
      "Episode 20\tReward: 1.36\tAverage Reward: 1.04\n",
      "Episode 25\tReward: 1.76\tAverage Reward: 1.35\n",
      "Episode 30\tReward: 2.78\tAverage Reward: 1.77\n",
      "Episode 35\tReward: 3.99\tAverage Reward: 1.96\n",
      "Episode 40\tReward: 1.83\tAverage Reward: 2.07\n",
      "Episode 45\tReward: 6.50\tAverage Reward: 2.32\n",
      "Episode 50\tReward: 2.56\tAverage Reward: 2.47\n",
      "Episode 55\tReward: 6.50\tAverage Reward: 2.72\n",
      "Episode 60\tReward: 2.81\tAverage Reward: 2.82\n",
      "Episode 65\tReward: 5.78\tAverage Reward: 2.96\n",
      "Episode 70\tReward: 5.80\tAverage Reward: 3.12\n",
      "Episode 75\tReward: 3.71\tAverage Reward: 3.20\n",
      "Episode 80\tReward: 4.85\tAverage Reward: 3.31\n",
      "Episode 85\tReward: 4.21\tAverage Reward: 3.40\n",
      "Episode 90\tReward: 5.47\tAverage Reward: 3.50\n",
      "Episode 95\tReward: 5.28\tAverage Reward: 3.73\n",
      "Episode 100\tReward: 6.66\tAverage Reward: 3.79\n",
      "Episode 100\tAverage Score: 3.79\n",
      "Episode 105\tReward: 3.58\tAverage Reward: 4.03\n",
      "Episode 110\tReward: 8.62\tAverage Reward: 4.32\n",
      "Episode 115\tReward: 6.86\tAverage Reward: 4.61\n",
      "Episode 120\tReward: 9.32\tAverage Reward: 5.00\n",
      "Episode 125\tReward: 9.80\tAverage Reward: 5.36\n",
      "Episode 130\tReward: 8.57\tAverage Reward: 5.63\n",
      "Episode 135\tReward: 10.12\tAverage Reward: 5.96\n",
      "Episode 140\tReward: 15.79\tAverage Reward: 6.51\n",
      "Episode 145\tReward: 15.26\tAverage Reward: 6.84\n",
      "Episode 150\tReward: 19.69\tAverage Reward: 7.41\n",
      "Episode 155\tReward: 10.32\tAverage Reward: 7.85\n",
      "Episode 160\tReward: 12.04\tAverage Reward: 8.37\n",
      "Episode 165\tReward: 17.70\tAverage Reward: 8.89\n",
      "Episode 170\tReward: 24.68\tAverage Reward: 9.91\n",
      "Episode 175\tReward: 15.20\tAverage Reward: 10.73\n",
      "Episode 180\tReward: 19.05\tAverage Reward: 11.29\n",
      "Episode 185\tReward: 29.47\tAverage Reward: 12.16\n",
      "Episode 190\tReward: 27.11\tAverage Reward: 13.14\n",
      "Episode 195\tReward: 24.86\tAverage Reward: 14.17\n",
      "Episode 200\tReward: 32.55\tAverage Reward: 15.27\n",
      "Episode 200\tAverage Score: 15.27\n",
      "Episode 205\tReward: 35.79\tAverage Reward: 16.45\n",
      "Episode 210\tReward: 26.13\tAverage Reward: 17.47\n",
      "Episode 215\tReward: 26.58\tAverage Reward: 18.61\n",
      "Episode 220\tReward: 36.91\tAverage Reward: 19.69\n",
      "Episode 225\tReward: 35.99\tAverage Reward: 20.89\n",
      "Episode 230\tReward: 25.35\tAverage Reward: 21.84\n",
      "Episode 235\tReward: 36.46\tAverage Reward: 23.08\n",
      "Episode 240\tReward: 39.20\tAverage Reward: 24.23\n",
      "Episode 245\tReward: 33.13\tAverage Reward: 25.40\n",
      "Episode 250\tReward: 37.54\tAverage Reward: 26.40\n",
      "Episode 255\tReward: 31.81\tAverage Reward: 27.35\n",
      "Episode 260\tReward: 33.38\tAverage Reward: 28.41\n",
      "Episode 265\tReward: 30.88\tAverage Reward: 29.36\n",
      "Episode 270\tReward: 37.20\tAverage Reward: 29.92\n",
      "\n",
      "Environment solved in 172 episodes!\tAverage Score: 30.10\n"
     ]
    }
   ],
   "source": [
    "def training(n_episodes=1000, max_t=1000):\n",
    "    scores = []                        # list containing scores from each episode\n",
    "    scores_window = deque(maxlen=100)  # last 100 scores\n",
    "    for i_episode in range(1, n_episodes+1):\n",
    "        env_info = env.reset(train_mode = True)[brain_name]\n",
    "        agent.reset()\n",
    "        state = env_info.vector_observations[0]\n",
    "        score = 0\n",
    "        for t in range(max_t):\n",
    "            action = agent.act(state)\n",
    "            env_info = env.step(action)[brain_name]           \n",
    "            next_state, reward, done = env_info.vector_observations[0], env_info.rewards[0], env_info.local_done[0]                        \n",
    "            score += env_info.rewards[0]                      \n",
    "            agent.step(state, action, reward, done, next_state)\n",
    "            state = next_state                                # roll over states to next time step\n",
    "            if done:                                  # exit loop if episode finished\n",
    "                break\n",
    "        scores_window.append(score)       \n",
    "        scores.append(score)              \n",
    "        if i_episode % 5 == 0:\n",
    "            print('\\rEpisode {}\\tReward: {:.2f}\\tAverage Reward: {:.2f}'.format(i_episode, score, np.mean(scores_window)))\n",
    "        if i_episode % 100 == 0:\n",
    "            print('\\rEpisode {}\\tAverage Score: {:.2f}'.format(i_episode, np.mean(scores_window)))\n",
    "        if np.mean(scores_window)>=30.0:\n",
    "            print('\\nEnvironment solved in {:d} episodes!\\tAverage Score: {:.2f}'.format(i_episode-100, np.mean(scores_window)))\n",
    "            torch.save(agent.dqn.state_dict(), 'dqn.pth')\n",
    "            torch.save(agent.policy.state_dict(), 'policy.pth')\n",
    "            break\n",
    "    return scores\n",
    "\n",
    "scores = training()"
   ]
  },
  {
   "cell_type": "code",
   "execution_count": 9,
   "metadata": {},
   "outputs": [
    {
     "data": {
      "image/png": "[encoded data removed]",
      "text/plain": [
       "<Figure size 432x288 with 1 Axes>"
      ]
     },
     "metadata": {
      "needs_background": "light"
     },
     "output_type": "display_data"
    }
   ],
   "source": [
    "import matplotlib.pyplot as plt\n",
    "%matplotlib inline\n",
    "\n",
    "# plot the scores\n",
    "fig = plt.figure()\n",
    "ax = fig.add_subplot(111)\n",
    "plt.plot(np.arange(len(scores)), scores)\n",
    "plt.ylabel('Score')\n",
    "plt.xlabel('Episode #')\n",
    "plt.show()"
   ]
  }
 ],
 "metadata": {
  "kernelspec": {
   "display_name": "Python 3",
   "language": "python",
   "name": "python3"
  },
  "language_info": {
   "codemirror_mode": {
    "name": "ipython",
    "version": 3
   },
   "file_extension": ".py",
   "mimetype": "text/x-python",
   "name": "python",
   "nbconvert_exporter": "python",
   "pygments_lexer": "ipython3",
   "version": "3.6.13"
  },
  "toc": {
   "base_numbering": 1,
   "nav_menu": {},
   "number_sections": true,
   "sideBar": true,
   "skip_h1_title": false,
   "title_cell": "Table of Contents",
   "title_sidebar": "Contents",
   "toc_cell": false,
   "toc_position": {},
   "toc_section_display": true,
   "toc_window_display": false
  }
 },
 "nbformat": 4,
 "nbformat_minor": 2
}
