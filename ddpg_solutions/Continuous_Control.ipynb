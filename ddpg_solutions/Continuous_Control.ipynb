{
 "cells": [
  {
   "cell_type": "markdown",
   "metadata": {},
   "source": [
    "# Continuous Control\n",
    "\n",
    "---\n",
    "\n",
    "### 1. Start the Environment"
   ]
  },
  {
   "cell_type": "code",
   "execution_count": 1,
   "metadata": {},
   "outputs": [
    {
     "name": "stderr",
     "output_type": "stream",
     "text": [
      "INFO:unityagents:\n",
      "'Academy' started successfully!\n",
      "Unity Academy name: Academy\n",
      "        Number of Brains: 1\n",
      "        Number of External Brains : 1\n",
      "        Lesson number : 0\n",
      "        Reset Parameters :\n",
      "\t\tgoal_size -> 5.0\n",
      "\t\tgoal_speed -> 1.0\n",
      "Unity brain name: ReacherBrain\n",
      "        Number of Visual Observations (per agent): 0\n",
      "        Vector Observation space type: continuous\n",
      "        Vector Observation space size (per agent): 33\n",
      "        Number of stacked Vector Observation: 1\n",
      "        Vector Action space type: continuous\n",
      "        Vector Action space size (per agent): 4\n",
      "        Vector Action descriptions: , , , \n"
     ]
    }
   ],
   "source": [
    "from unityagents import UnityEnvironment\n",
    "import numpy as np\n",
    "\n",
    "env = UnityEnvironment(file_name='../reacher_apps/Reacher.app')"
   ]
  },
  {
   "cell_type": "markdown",
   "metadata": {},
   "source": [
    "Environments contain **_brains_** which are responsible for deciding the actions of their associated agents. Here we check for the first brain available, and set it as the default brain we will be controlling from Python."
   ]
  },
  {
   "cell_type": "code",
   "execution_count": 2,
   "metadata": {},
   "outputs": [],
   "source": [
    "# get the default brain\n",
    "brain_name = env.brain_names[0]\n",
    "brain = env.brains[brain_name]"
   ]
  },
  {
   "cell_type": "code",
   "execution_count": 3,
   "metadata": {},
   "outputs": [
    {
     "name": "stdout",
     "output_type": "stream",
     "text": [
      "Number of agents: 1\n",
      "Size of each action: 4\n",
      "There are 1 agents. Each observes a state with length: 33\n",
      "The state for the first agent looks like: [ 0.00000000e+00 -4.00000000e+00  0.00000000e+00  1.00000000e+00\n",
      " -0.00000000e+00 -0.00000000e+00 -4.37113883e-08  0.00000000e+00\n",
      "  0.00000000e+00  0.00000000e+00  0.00000000e+00  0.00000000e+00\n",
      "  0.00000000e+00  0.00000000e+00 -1.00000000e+01  0.00000000e+00\n",
      "  1.00000000e+00 -0.00000000e+00 -0.00000000e+00 -4.37113883e-08\n",
      "  0.00000000e+00  0.00000000e+00  0.00000000e+00  0.00000000e+00\n",
      "  0.00000000e+00  0.00000000e+00  5.75471878e+00 -1.00000000e+00\n",
      "  5.55726671e+00  0.00000000e+00  1.00000000e+00  0.00000000e+00\n",
      " -1.68164849e-01]\n"
     ]
    }
   ],
   "source": [
    "# reset the environment\n",
    "env_info = env.reset(train_mode=True)[brain_name]\n",
    "\n",
    "# number of agents\n",
    "num_agents = len(env_info.agents)\n",
    "print('Number of agents:', num_agents)\n",
    "\n",
    "# size of each action\n",
    "action_size = brain.vector_action_space_size\n",
    "print('Size of each action:', action_size)\n",
    "\n",
    "# examine the state space \n",
    "states = env_info.vector_observations\n",
    "state_size = states.shape[1]\n",
    "print('There are {} agents. Each observes a state with length: {}'.format(states.shape[0], state_size))\n",
    "print('The state for the first agent looks like:', states[0])"
   ]
  },
  {
   "cell_type": "code",
   "execution_count": 4,
   "metadata": {},
   "outputs": [],
   "source": [
    "import torch\n",
    "import torch.nn as nn\n",
    "import torch.nn.functional as F\n",
    "import torch.optim as optim\n",
    "\n",
    "import numpy as np\n",
    "import random\n",
    "import copy\n",
    "from collections import deque, namedtuple\n",
    "\n",
    "device = torch.device(\"cuda:0\" if torch.cuda.is_available() else \"cpu\")"
   ]
  },
  {
   "cell_type": "code",
   "execution_count": 5,
   "metadata": {},
   "outputs": [],
   "source": [
    "# Models\n",
    "def hidden_init(layer):\n",
    "    fan_in = layer.weight.data.size()[0]\n",
    "    lim = 1. / np.sqrt(fan_in)\n",
    "    return (-lim, lim)\n",
    "\n",
    "class Critic(nn.Module):\n",
    "    def __init__(self, seed):\n",
    "        super(Critic, self).__init__()\n",
    "        self.seed = torch.manual_seed(seed)\n",
    "        self.fc1 = nn.Linear(33, 400)\n",
    "        self.fc2 = nn.Linear(404, 300)\n",
    "        self.fc3 = nn.Linear(300, 1)\n",
    "        self.reset_parameters()\n",
    "\n",
    "    def reset_parameters(self):\n",
    "        self.fc1.weight.data.uniform_(*hidden_init(self.fc1))\n",
    "        self.fc2.weight.data.uniform_(*hidden_init(self.fc2))\n",
    "        self.fc3.weight.data.uniform_(-3e-3, 3e-3)\n",
    "        \n",
    "    def forward(self, states, actions):\n",
    "        x = F.relu(self.fc1(states))\n",
    "        x = torch.cat((x, actions), -1)\n",
    "        x = F.relu(self.fc2(x))\n",
    "        x = self.fc3(x)\n",
    "        return x\n",
    "    \n",
    "class Actor(nn.Module):\n",
    "    def __init__(self, seed):\n",
    "        super(Actor, self).__init__()\n",
    "        self.seed = torch.manual_seed(seed)\n",
    "        self.fc1 = nn.Linear(33, 400)\n",
    "        self.fc2 = nn.Linear(400, 300)\n",
    "        self.fc3 = nn.Linear(300, 4)\n",
    "        self.reset_parameters()\n",
    "\n",
    "    def reset_parameters(self):\n",
    "        self.fc1.weight.data.uniform_(*hidden_init(self.fc1))\n",
    "        self.fc2.weight.data.uniform_(*hidden_init(self.fc2))\n",
    "        self.fc3.weight.data.uniform_(-3e-3, 3e-3)\n",
    "        \n",
    "    def forward(self, states):\n",
    "        x = F.relu(self.fc1(states))\n",
    "        x = F.relu(self.fc2(x))\n",
    "        x = F.tanh(self.fc3(x))\n",
    "        return x"
   ]
  },
  {
   "cell_type": "code",
   "execution_count": 6,
   "metadata": {},
   "outputs": [],
   "source": [
    "# Noise Function\n",
    "class OUNoise:\n",
    "    def __init__(self, size, mu=0., theta=0.15, sigma=0.2):\n",
    "        self.mu = mu * np.ones(size)\n",
    "        self.theta = theta\n",
    "        self.sigma = sigma\n",
    "        self.reset()\n",
    "\n",
    "    def reset(self):\n",
    "        self.state = copy.copy(self.mu)\n",
    "\n",
    "    def sample(self):\n",
    "        x = self.state\n",
    "        dx = self.theta * (self.mu - x) + self.sigma * np.random.randn(len(x)) # ADDED\n",
    "        self.state = x + dx\n",
    "        return self.state"
   ]
  },
  {
   "cell_type": "code",
   "execution_count": 7,
   "metadata": {},
   "outputs": [],
   "source": [
    "# Training Functions\n",
    "class Agent(nn.Module):\n",
    "    def __init__(self, buffer_size, batch_size):\n",
    "        super(Agent, self).__init__()\n",
    "        self.buffer_size = buffer_size\n",
    "        self.batch_size = batch_size\n",
    "        self.experience = namedtuple(\"Experience\", field_names=[\"state\", \"action\", \"reward\", \"done\", \"next_state\"])\n",
    "        self.memory = deque(maxlen=self.buffer_size)\n",
    "        self.dqn = Critic(1).to(device)\n",
    "        self.dqn_target = Critic(1).to(device)\n",
    "        self.policy = Actor(1).to(device)\n",
    "        self.policy_target = Actor(1).to(device)\n",
    "        self.optimizer_dqn = optim.Adam(self.dqn.parameters(), lr = 1e-4, weight_decay = 0)\n",
    "        self.optimizer_policy = optim.Adam(self.policy.parameters(), lr = 1e-3)\n",
    "        self.t_step = 0\n",
    "        self.noise = OUNoise(4)\n",
    "    \n",
    "    def act(self, state, add_noise=True):\n",
    "        state = torch.from_numpy(state).float().to(device)\n",
    "        self.policy.eval()\n",
    "        with torch.no_grad():\n",
    "            action = self.policy(state).cpu().data.numpy()\n",
    "        self.policy.train()\n",
    "        action += self.noise.sample()\n",
    "        return np.clip(action, -1, 1)\n",
    "    \n",
    "    def step(self, state, action, reward, done, next_state):\n",
    "        e = self.experience(state, action, reward, done, next_state)\n",
    "        self.memory.append(e) \n",
    "        \n",
    "        self.t_step = (self.t_step + 1)\n",
    "        if self.t_step % 1 == 0:\n",
    "            if len(self.memory)>=self.batch_size:\n",
    "                experiences = self.sample()\n",
    "                states, actions, rewards, dones, next_states = experiences\n",
    "                \n",
    "                Q = self.dqn_learn(states, actions, rewards, dones, next_states)\n",
    "                self.optimizer_dqn.zero_grad()\n",
    "                Q.backward()\n",
    "                self.optimizer_dqn.step()\n",
    "                for target_param, local_param in zip(self.dqn_target.parameters(), self.dqn.parameters()):\n",
    "                    target_param.data.copy_(0.001*local_param.data + (1.0-0.001)*target_param.data)\n",
    "                \n",
    "                P = self.policy_learn(states)\n",
    "                self.optimizer_policy.zero_grad()\n",
    "                P.backward()\n",
    "                self.optimizer_policy.step()\n",
    "                for target_param, local_param in zip(self.policy_target.parameters(), self.policy.parameters()):\n",
    "                    target_param.data.copy_(0.001*local_param.data + (1.0-0.001)*target_param.data)\n",
    "\n",
    "    def sample(self):\n",
    "        experiences = random.sample(self.memory, k=self.batch_size)\n",
    "        states = torch.from_numpy(np.vstack([e.state for e in experiences if e is not None])).float().to(device)\n",
    "        actions = torch.from_numpy(np.vstack([e.action for e in experiences if e is not None])).long().to(device)\n",
    "        rewards = torch.from_numpy(np.vstack([e.reward for e in experiences if e is not None])).float().to(device)\n",
    "        next_states = torch.from_numpy(np.vstack([e.next_state for e in experiences if e is not None])).float().to(device)\n",
    "        dones = torch.from_numpy(np.vstack([e.done for e in experiences if e is not None]).astype(np.uint8)).float().to(device)\n",
    "        return (states, actions, rewards, dones, next_states)\n",
    "    \n",
    "    def dqn_learn(self, states, actions, rewards, dones, next_states, discount = 0.99):\n",
    "        next_actions = self.policy_target(next_states)\n",
    "        dqn_future_reward = rewards + (discount * self.dqn_target(next_states, next_actions) * (1 - dones))\n",
    "        dqn_expected_reward = self.dqn(states, actions)\n",
    "        return F.mse_loss(dqn_future_reward, dqn_expected_reward)\n",
    "    \n",
    "    def policy_learn(self, states):\n",
    "        actions_pred = self.policy(states)\n",
    "        rewards_pred = self.dqn(states, actions_pred)\n",
    "        return -torch.mean(rewards_pred)\n",
    "    \n",
    "    def reset(self):\n",
    "        self.noise.reset()\n",
    "agent = Agent(int(1e5), 128)"
   ]
  },
  {
   "cell_type": "code",
   "execution_count": 8,
   "metadata": {
    "scrolled": true
   },
   "outputs": [
    {
     "name": "stderr",
     "output_type": "stream",
     "text": [
      "/anaconda3/envs/reacher_ddpg/lib/python3.6/site-packages/torch/nn/functional.py:1795: UserWarning: nn.functional.tanh is deprecated. Use torch.tanh instead.\n",
      "  warnings.warn(\"nn.functional.tanh is deprecated. Use torch.tanh instead.\")\n"
     ]
    },
    {
     "name": "stdout",
     "output_type": "stream",
     "text": [
      "Episode 5\tReward: 0.00\tAverage Reward: 0.54\n",
      "Episode 10\tReward: 1.00\tAverage Reward: 0.51\n",
      "Episode 15\tReward: 0.68\tAverage Reward: 0.63\n",
      "Episode 20\tReward: 2.02\tAverage Reward: 0.72\n",
      "Episode 25\tReward: 0.79\tAverage Reward: 0.87\n",
      "Episode 30\tReward: 1.29\tAverage Reward: 1.05\n",
      "Episode 35\tReward: 2.87\tAverage Reward: 1.29\n",
      "Episode 40\tReward: 3.35\tAverage Reward: 1.41\n",
      "Episode 45\tReward: 3.23\tAverage Reward: 1.61\n",
      "Episode 50\tReward: 3.65\tAverage Reward: 1.72\n",
      "Episode 55\tReward: 5.55\tAverage Reward: 1.90\n",
      "Episode 60\tReward: 3.30\tAverage Reward: 2.02\n",
      "Episode 65\tReward: 4.80\tAverage Reward: 2.10\n",
      "Episode 70\tReward: 4.43\tAverage Reward: 2.19\n",
      "Episode 75\tReward: 4.04\tAverage Reward: 2.23\n",
      "Episode 80\tReward: 2.14\tAverage Reward: 2.33\n",
      "Episode 85\tReward: 4.49\tAverage Reward: 2.45\n",
      "Episode 90\tReward: 4.65\tAverage Reward: 2.55\n",
      "Episode 95\tReward: 5.20\tAverage Reward: 2.75\n",
      "Episode 100\tReward: 6.42\tAverage Reward: 3.00\n",
      "Episode 100\tAverage Score: 3.00\n",
      "Episode 105\tReward: 6.79\tAverage Reward: 3.27\n",
      "Episode 110\tReward: 7.20\tAverage Reward: 3.55\n",
      "Episode 115\tReward: 6.69\tAverage Reward: 3.83\n",
      "Episode 120\tReward: 8.87\tAverage Reward: 4.17\n",
      "Episode 125\tReward: 9.92\tAverage Reward: 4.54\n",
      "Episode 130\tReward: 6.99\tAverage Reward: 4.78\n",
      "Episode 135\tReward: 11.63\tAverage Reward: 5.05\n",
      "Episode 140\tReward: 14.91\tAverage Reward: 5.49\n",
      "Episode 145\tReward: 11.26\tAverage Reward: 6.04\n",
      "Episode 150\tReward: 20.61\tAverage Reward: 6.67\n",
      "Episode 155\tReward: 19.34\tAverage Reward: 7.27\n",
      "Episode 160\tReward: 17.95\tAverage Reward: 7.85\n",
      "Episode 165\tReward: 22.69\tAverage Reward: 8.54\n",
      "Episode 170\tReward: 17.99\tAverage Reward: 9.44\n",
      "Episode 175\tReward: 30.03\tAverage Reward: 10.48\n",
      "Episode 180\tReward: 28.39\tAverage Reward: 11.23\n",
      "Episode 185\tReward: 29.74\tAverage Reward: 12.28\n",
      "Episode 190\tReward: 34.17\tAverage Reward: 13.43\n",
      "Episode 195\tReward: 23.38\tAverage Reward: 14.48\n",
      "Episode 200\tReward: 33.20\tAverage Reward: 15.43\n",
      "Episode 200\tAverage Score: 15.43\n",
      "Episode 205\tReward: 34.78\tAverage Reward: 16.74\n",
      "Episode 210\tReward: 28.42\tAverage Reward: 17.82\n",
      "Episode 215\tReward: 25.63\tAverage Reward: 18.93\n",
      "Episode 220\tReward: 31.77\tAverage Reward: 20.12\n",
      "Episode 225\tReward: 32.04\tAverage Reward: 21.15\n",
      "Episode 230\tReward: 21.03\tAverage Reward: 22.23\n",
      "Episode 235\tReward: 33.61\tAverage Reward: 23.57\n",
      "Episode 240\tReward: 38.03\tAverage Reward: 24.65\n",
      "Episode 245\tReward: 32.52\tAverage Reward: 25.56\n",
      "Episode 250\tReward: 33.98\tAverage Reward: 26.46\n",
      "Episode 255\tReward: 30.62\tAverage Reward: 27.35\n",
      "Episode 260\tReward: 35.16\tAverage Reward: 28.32\n",
      "Episode 265\tReward: 34.60\tAverage Reward: 29.18\n",
      "Episode 270\tReward: 33.61\tAverage Reward: 29.79\n",
      "\n",
      "Environment solved in 173 episodes!\tAverage Score: 30.06\n"
     ]
    }
   ],
   "source": [
    "# Training\n",
    "def training(n_episodes=1000, max_t=1000):\n",
    "    scores = []\n",
    "    scores_window = deque(maxlen=100)\n",
    "    for i_episode in range(1, n_episodes+1):\n",
    "        env_info = env.reset(train_mode = True)[brain_name]\n",
    "        agent.reset()\n",
    "        state = env_info.vector_observations[0]\n",
    "        score = 0\n",
    "        for t in range(max_t):\n",
    "            action = agent.act(state)\n",
    "            env_info = env.step(action)[brain_name]           \n",
    "            next_state, reward, done = env_info.vector_observations[0], env_info.rewards[0], env_info.local_done[0]                        \n",
    "            score += env_info.rewards[0]                      \n",
    "            agent.step(state, action, reward, done, next_state)\n",
    "            state = next_state\n",
    "            if done:\n",
    "                break\n",
    "        scores_window.append(score)       \n",
    "        scores.append(score)              \n",
    "        if i_episode % 5 == 0:\n",
    "            print('\\rEpisode {}\\tReward: {:.2f}\\tAverage Reward: {:.2f}'.format(i_episode, score, np.mean(scores_window)))\n",
    "        if i_episode % 100 == 0:\n",
    "            print('\\rEpisode {}\\tAverage Score: {:.2f}'.format(i_episode, np.mean(scores_window)))\n",
    "        if np.mean(scores_window)>=30.0:\n",
    "            print('\\nEnvironment solved in {:d} episodes!\\tAverage Score: {:.2f}'.format(i_episode-100, np.mean(scores_window)))\n",
    "            torch.save(agent.dqn.state_dict(), 'checkpoint/trained_weights_critic.pth')\n",
    "            torch.save(agent.policy.state_dict(), 'checkpoint/trained_weights_policy.pth')\n",
    "            break\n",
    "    return scores\n",
    "\n",
    "scores = training()"
   ]
  },
  {
   "cell_type": "code",
   "execution_count": 9,
   "metadata": {},
   "outputs": [
    {
     "data": {
      "image/png": "[encoded data removed]",
      "text/plain": [
       "<Figure size 432x288 with 1 Axes>"
      ]
     },
     "metadata": {
      "needs_background": "light"
     },
     "output_type": "display_data"
    }
   ],
   "source": [
    "import matplotlib.pyplot as plt\n",
    "%matplotlib inline\n",
    "\n",
    "# plot the scores\n",
    "fig = plt.figure()\n",
    "ax = fig.add_subplot(111)\n",
    "plt.plot(np.arange(len(scores)), scores)\n",
    "plt.ylabel('Score')\n",
    "plt.xlabel('Episode #')\n",
    "plt.show()"
   ]
  },
  {
   "cell_type": "code",
   "execution_count": 10,
   "metadata": {},
   "outputs": [],
   "source": [
    "env.close()"
   ]
  }
 ],
 "metadata": {
  "kernelspec": {
   "display_name": "Python 3",
   "language": "python",
   "name": "python3"
  },
  "language_info": {
   "codemirror_mode": {
    "name": "ipython",
    "version": 3
   },
   "file_extension": ".py",
   "mimetype": "text/x-python",
   "name": "python",
   "nbconvert_exporter": "python",
   "pygments_lexer": "ipython3",
   "version": "3.6.13"
  },
  "toc": {
   "base_numbering": 1,
   "nav_menu": {},
   "number_sections": true,
   "sideBar": true,
   "skip_h1_title": false,
   "title_cell": "Table of Contents",
   "title_sidebar": "Contents",
   "toc_cell": false,
   "toc_position": {},
   "toc_section_display": true,
   "toc_window_display": false
  }
 },
 "nbformat": 4,
 "nbformat_minor": 2
}
