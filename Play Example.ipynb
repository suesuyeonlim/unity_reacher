{
 "cells": [
  {
   "cell_type": "markdown",
   "metadata": {},
   "source": [
    "# Collaboration and Competition\n",
    "\n",
    "---\n",
    "\n",
    "### 1. Start the Environment"
   ]
  },
  {
   "cell_type": "code",
   "execution_count": 1,
   "metadata": {},
   "outputs": [
    {
     "name": "stderr",
     "output_type": "stream",
     "text": [
      "INFO:unityagents:\n",
      "'Academy' started successfully!\n",
      "Unity Academy name: Academy\n",
      "        Number of Brains: 1\n",
      "        Number of External Brains : 1\n",
      "        Lesson number : 0\n",
      "        Reset Parameters :\n",
      "\t\t\n",
      "Unity brain name: TennisBrain\n",
      "        Number of Visual Observations (per agent): 0\n",
      "        Vector Observation space type: continuous\n",
      "        Vector Observation space size (per agent): 8\n",
      "        Number of stacked Vector Observation: 3\n",
      "        Vector Action space type: continuous\n",
      "        Vector Action space size (per agent): 2\n",
      "        Vector Action descriptions: , \n"
     ]
    }
   ],
   "source": [
    "from unityagents import UnityEnvironment\n",
    "import numpy as np\n",
    "\n",
    "env = UnityEnvironment(file_name='apps/Tennis.app')"
   ]
  },
  {
   "cell_type": "markdown",
   "metadata": {},
   "source": [
    "Environments contain **_brains_** which are responsible for deciding the actions of their associated agents. Here we check for the first brain available, and set it as the default brain we will be controlling from Python."
   ]
  },
  {
   "cell_type": "code",
   "execution_count": 2,
   "metadata": {},
   "outputs": [],
   "source": [
    "# get the default brain\n",
    "brain_name = env.brain_names[0]\n",
    "brain = env.brains[brain_name]"
   ]
  },
  {
   "cell_type": "code",
   "execution_count": 3,
   "metadata": {},
   "outputs": [
    {
     "name": "stdout",
     "output_type": "stream",
     "text": [
      "Number of agents: 2\n",
      "Size of each action: 2\n",
      "There are 2 agents. Each observes a state with length: 24\n",
      "The state for the first agent looks like: [ 0.          0.          0.          0.          0.          0.\n",
      "  0.          0.          0.          0.          0.          0.\n",
      "  0.          0.          0.          0.         -6.65278625 -1.5\n",
      " -0.          0.          6.83172083  6.         -0.          0.        ]\n"
     ]
    }
   ],
   "source": [
    "# reset the environment\n",
    "env_info = env.reset(train_mode=True)[brain_name]\n",
    "\n",
    "# number of agents\n",
    "num_agents = len(env_info.agents)\n",
    "print('Number of agents:', num_agents)\n",
    "\n",
    "# size of each action\n",
    "action_size = brain.vector_action_space_size\n",
    "print('Size of each action:', action_size)\n",
    "\n",
    "# examine the state space \n",
    "states = env_info.vector_observations\n",
    "state_size = states.shape[1]\n",
    "print('There are {} agents. Each observes a state with length: {}'.format(states.shape[0], state_size))\n",
    "print('The state for the first agent looks like:', states[0])"
   ]
  },
  {
   "cell_type": "code",
   "execution_count": 4,
   "metadata": {},
   "outputs": [],
   "source": [
    "import torch\n",
    "import torch.nn as nn\n",
    "import torch.nn.functional as F\n",
    "import torch.optim as optim\n",
    "\n",
    "import numpy as np\n",
    "import random\n",
    "import copy\n",
    "from collections import deque, namedtuple"
   ]
  },
  {
   "cell_type": "code",
   "execution_count": 5,
   "metadata": {},
   "outputs": [],
   "source": [
    "# Models\n",
    "def hidden_init(layer):\n",
    "    fan_in = layer.weight.data.size()[0]\n",
    "    lim = 1. / np.sqrt(fan_in)\n",
    "    return (-lim, lim)\n",
    "\n",
    "class Critic(nn.Module):\n",
    "    def __init__(self, seed):\n",
    "        super(Critic, self).__init__()\n",
    "        self.seed = torch.manual_seed(seed)\n",
    "        self.fc1 = nn.Linear(48, 400)\n",
    "        self.fc2 = nn.Linear(404, 300)\n",
    "        self.fc3 = nn.Linear(300, 2)\n",
    "        self.reset_parameters()\n",
    "\n",
    "    def reset_parameters(self):\n",
    "        self.fc1.weight.data.uniform_(*hidden_init(self.fc1))\n",
    "        self.fc2.weight.data.uniform_(*hidden_init(self.fc2))\n",
    "        self.fc3.weight.data.uniform_(-3e-3, 3e-3)\n",
    "        \n",
    "    def forward(self, states, actions):\n",
    "        states = states.reshape(-1, 48)\n",
    "        actions = actions.reshape(-1, 4)\n",
    "        x = F.relu(self.fc1(states))\n",
    "        x = torch.cat((x, actions), -1)\n",
    "        x = F.relu(self.fc2(x))\n",
    "        x = self.fc3(x)\n",
    "        return x\n",
    "    \n",
    "class Actor(nn.Module):\n",
    "    def __init__(self, seed):\n",
    "        super(Actor, self).__init__()\n",
    "        self.seed = torch.manual_seed(seed)\n",
    "        self.fc1 = nn.Linear(24, 400)\n",
    "        self.fc2 = nn.Linear(400, 300)\n",
    "        self.fc3 = nn.Linear(300, 2)\n",
    "        self.reset_parameters()\n",
    "\n",
    "    def reset_parameters(self):\n",
    "        self.fc1.weight.data.uniform_(*hidden_init(self.fc1))\n",
    "        self.fc2.weight.data.uniform_(*hidden_init(self.fc2))\n",
    "        self.fc3.weight.data.uniform_(-3e-3, 3e-3)\n",
    "        \n",
    "    def forward(self, states):\n",
    "        x = F.relu(self.fc1(states))\n",
    "        x = F.relu(self.fc2(x))\n",
    "        x = F.tanh(self.fc3(x))\n",
    "        return x"
   ]
  },
  {
   "cell_type": "code",
   "execution_count": 6,
   "metadata": {},
   "outputs": [],
   "source": [
    "class Agent(nn.Module):\n",
    "    def __init__(self):\n",
    "        super(Agent, self).__init__()\n",
    "        self.actor = Actor(1)\n",
    "        self.critic = Critic(1)\n",
    "        self.critic_target = Critic(1)\n",
    "        self.optimizer_actor = optim.Adam(self.actor.parameters(), lr = 1e-4)\n",
    "        self.optimizer_critic = optim.Adam(self.critic.parameters(), lr = 1e-4)\n",
    "        self.states = torch.empty(100000, num_agents, 24)\n",
    "        self.actions = torch.empty(100000, num_agents, 2)\n",
    "        self.rewards = torch.empty(100000, num_agents, 1)\n",
    "        self.next_states = torch.empty(100000, num_agents, 24)\n",
    "        self.dones = torch.empty(100000, num_agents, 1)\n",
    "        self.idx = 0\n",
    "        self.count = 0\n",
    "        self.scale = 2\n",
    "    \n",
    "    def act(self, states, add_noise = True):\n",
    "        with torch.no_grad():\n",
    "            actions = self.actor(states)\n",
    "        self.scale *= 0.9999\n",
    "        if add_noise:\n",
    "            actions += np.random.standard_normal(2) * self.scale\n",
    "        return np.clip(actions, -1, 1)\n",
    "    \n",
    "    def push(self, states, actions, rewards, next_states, dones):\n",
    "        self.states[self.idx] = states\n",
    "        self.actions[self.idx] = actions\n",
    "        self.rewards[self.idx] = torch.tensor(rewards, dtype = torch.float).unsqueeze(1)\n",
    "        self.next_states[self.idx] = next_states\n",
    "        self.dones[self.idx] = torch.tensor(dones, dtype = torch.float).unsqueeze(1)\n",
    "        \n",
    "        self.count += 1\n",
    "        self.idx = self.count % 100000\n",
    "        \n",
    "    def sample(self):\n",
    "        sample_range = min(self.count, 99999)\n",
    "        batch_idxs = random.sample(range(sample_range), 128)\n",
    "        return self.states[batch_idxs], self.actions[batch_idxs], self.rewards[batch_idxs], self.next_states[batch_idxs], self.dones[batch_idxs]\n",
    "\n",
    "    def step(self):\n",
    "        if self.count >= 128:\n",
    "            states, actions, rewards, next_states, dones = self.sample()\n",
    "            next_actions = self.actor(next_states)\n",
    "            td_error = torch.mean((rewards + 0.99 * self.critic_target(next_states, next_actions).unsqueeze(2) * \\\n",
    "                                   (1 - dones) - self.critic(states, actions).unsqueeze(2))**2)\n",
    "            \n",
    "            self.optimizer_critic.zero_grad()\n",
    "            td_error.backward()\n",
    "            self.optimizer_critic.step()\n",
    "            for target_param, local_param in zip(self.critic_target.parameters(), self.critic.parameters()):\n",
    "                target_param.data.copy_(0.001*local_param.data + (1.0-0.001)*target_param.data)\n",
    "                    \n",
    "            actions_pred = self.actor(states)\n",
    "            rewards_pred = self.critic(states, actions_pred).unsqueeze(2)\n",
    "            rewards_calc = -torch.mean(rewards_pred)\n",
    "            \n",
    "            self.optimizer_actor.zero_grad()\n",
    "            rewards_calc.backward()\n",
    "            self.optimizer_actor.step()\n",
    "\n",
    "agent = Agent()"
   ]
  },
  {
   "cell_type": "code",
   "execution_count": 7,
   "metadata": {},
   "outputs": [
    {
     "data": {
      "text/plain": [
       "<All keys matched successfully>"
      ]
     },
     "execution_count": 7,
     "metadata": {},
     "output_type": "execute_result"
    }
   ],
   "source": [
    "agent.critic.load_state_dict(torch.load('maddpg/checkpoint/trained_weights_ddpg_v2_critic.pth'))\n",
    "agent.actor.load_state_dict(torch.load('maddpg/checkpoint/trained_weights_ddpg_v2_policy.pth'))"
   ]
  },
  {
   "cell_type": "code",
   "execution_count": 8,
   "metadata": {},
   "outputs": [
    {
     "name": "stderr",
     "output_type": "stream",
     "text": [
      "/anaconda3/envs/reacher_ddpg/lib/python3.6/site-packages/torch/nn/functional.py:1795: UserWarning: nn.functional.tanh is deprecated. Use torch.tanh instead.\n",
      "  warnings.warn(\"nn.functional.tanh is deprecated. Use torch.tanh instead.\")\n"
     ]
    },
    {
     "name": "stdout",
     "output_type": "stream",
     "text": [
      "Episode 0\tReward: 2.60000\n",
      "Episode 1\tReward: 2.65000\n",
      "Episode 2\tReward: 2.60000\n",
      "Episode 3\tReward: 2.65000\n",
      "Episode 4\tReward: 2.65000\n"
     ]
    }
   ],
   "source": [
    "scores = []\n",
    "for i in range(5):                                         \n",
    "    env_info = env.reset(train_mode=False)[brain_name]     \n",
    "    states = torch.tensor(env_info.vector_observations, dtype = torch.float) \n",
    "    score = np.zeros(num_agents) \n",
    "    while True:\n",
    "        actions = agent.act(states, add_noise = False)\n",
    "        env_info = env.step(actions.cpu().data.numpy())[brain_name]           \n",
    "        next_states = torch.tensor(env_info.vector_observations, dtype = torch.float)       \n",
    "        rewards = env_info.rewards\n",
    "        dones = env_info.local_done                        \n",
    "        score += env_info.rewards\n",
    "        states = next_states                              \n",
    "        if np.any(dones):                                  \n",
    "            break\n",
    "    scores.append(score)\n",
    "    \n",
    "    print('\\rEpisode {}\\tReward: {:.5f}'.format(i, np.mean(score)))"
   ]
  },
  {
   "cell_type": "code",
   "execution_count": 9,
   "metadata": {},
   "outputs": [],
   "source": [
    "env.close()"
   ]
  }
 ],
 "metadata": {
  "kernelspec": {
   "display_name": "Python 3",
   "language": "python",
   "name": "python3"
  },
  "language_info": {
   "codemirror_mode": {
    "name": "ipython",
    "version": 3
   },
   "file_extension": ".py",
   "mimetype": "text/x-python",
   "name": "python",
   "nbconvert_exporter": "python",
   "pygments_lexer": "ipython3",
   "version": "3.6.13"
  },
  "toc": {
   "base_numbering": 1,
   "nav_menu": {},
   "number_sections": true,
   "sideBar": true,
   "skip_h1_title": false,
   "title_cell": "Table of Contents",
   "title_sidebar": "Contents",
   "toc_cell": false,
   "toc_position": {},
   "toc_section_display": true,
   "toc_window_display": false
  }
 },
 "nbformat": 4,
 "nbformat_minor": 2
}
